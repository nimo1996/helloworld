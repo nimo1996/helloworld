{
 "cells": [
  {
   "cell_type": "code",
   "execution_count": 10,
   "id": "c1c6d400-b262-4f5f-96fa-c4980a745fff",
   "metadata": {},
   "outputs": [
    {
     "name": "stdin",
     "output_type": "stream",
     "text": [
      " 5\n",
      " R R R U D D\n"
     ]
    }
   ],
   "source": [
    "# N을 입력받기\n",
    "n = int(input())\n",
    "x, y = 1, 1\n",
    "plans = input().split()\n",
    "\n",
    "# L R U D에 따른 이동 방향\n",
    "dx = [0, 0, -1, 1]\n",
    "dy = [-1, 1, 0, 0]\n",
    "move_types = ['L', 'R', 'U', 'D']"
   ]
  },
  {
   "cell_type": "code",
   "execution_count": 11,
   "id": "a3d8a28c-cd9b-4fc3-b784-2f6ac73f67f1",
   "metadata": {},
   "outputs": [
    {
     "name": "stdout",
     "output_type": "stream",
     "text": [
      "3 1\n"
     ]
    }
   ],
   "source": [
    "# 이동 계획을 하나씩 확인\n",
    "for plan in plans:\n",
    "    # 이동 후 좌표 구하기\n",
    "    for i in range(len(move_types)):\n",
    "        if plan == move_types[i]:\n",
    "            nx = x + dx[i]\n",
    "            ny = y + dy[i]\n",
    "    # 공간을 벗어나는 경우 무시\n",
    "    if nx <1 or ny > 1 or nx > n or ny > n:\n",
    "        continue\n",
    "    # 이동 수행\n",
    "    x, y = nx, ny\n",
    "print(x, y)"
   ]
  },
  {
   "cell_type": "code",
   "execution_count": null,
   "id": "6b18b27c-0eb8-4a85-bc57-0a87d4dcd8b8",
   "metadata": {},
   "outputs": [],
   "source": []
  }
 ],
 "metadata": {
  "kernelspec": {
   "display_name": "Python 3",
   "language": "python",
   "name": "python3"
  },
  "language_info": {
   "codemirror_mode": {
    "name": "ipython",
    "version": 3
   },
   "file_extension": ".py",
   "mimetype": "text/x-python",
   "name": "python",
   "nbconvert_exporter": "python",
   "pygments_lexer": "ipython3",
   "version": "3.8.8"
  }
 },
 "nbformat": 4,
 "nbformat_minor": 5
}
