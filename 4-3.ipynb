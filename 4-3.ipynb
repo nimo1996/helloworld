{
 "cells": [
  {
   "cell_type": "code",
   "execution_count": 6,
   "id": "fbd7a4cf-03a2-4396-8c8d-d8cedc058dc3",
   "metadata": {},
   "outputs": [
    {
     "name": "stdin",
     "output_type": "stream",
     "text": [
      " a1\n"
     ]
    }
   ],
   "source": [
    "# 현재 나이트 위치 입력받기\n",
    "input_data = input()\n",
    "row = int(input_data[1])\n",
    "column = int(ord(input_data[0])) - int(ord('a')) + 1"
   ]
  },
  {
   "cell_type": "code",
   "execution_count": 7,
   "id": "9ff8b100-d0a1-4830-aa82-471682c1c7c2",
   "metadata": {},
   "outputs": [],
   "source": [
    "# 나이트가 이동할 수 있는 8가지 방향 정의\n",
    "steps = [(-2, -1), (-1, -2), (1, -2), (1, -2), (2, -1), (2, 1), (1, 2), ( -1, 2), (-2, 1)]"
   ]
  },
  {
   "cell_type": "code",
   "execution_count": 8,
   "id": "d08eaf2b-a1b6-4bbe-a3c4-5511a93e4ed7",
   "metadata": {},
   "outputs": [
    {
     "name": "stdout",
     "output_type": "stream",
     "text": [
      "2\n"
     ]
    }
   ],
   "source": [
    "# 8가지 방향에 대하여 각 위치로 이동이 가능한지 확인\n",
    "\n",
    "result = 0\n",
    "for step in steps:\n",
    "    # 이동하고자 하는 위치 확인\n",
    "    next_row = row + step[0]\n",
    "    next_column = column + step[1]\n",
    "    #해당 위치로 이동이 가능하다면 카운트 증가\n",
    "    if next_row >= 1 and next_row <= 8 and next_column >= 1 and next_column <= 8:\n",
    "        result += 1\n",
    "print(result)"
   ]
  },
  {
   "cell_type": "code",
   "execution_count": null,
   "id": "ff3458ce-55a0-46c5-ae88-657f5209c920",
   "metadata": {},
   "outputs": [],
   "source": []
  }
 ],
 "metadata": {
  "kernelspec": {
   "display_name": "Python 3",
   "language": "python",
   "name": "python3"
  },
  "language_info": {
   "codemirror_mode": {
    "name": "ipython",
    "version": 3
   },
   "file_extension": ".py",
   "mimetype": "text/x-python",
   "name": "python",
   "nbconvert_exporter": "python",
   "pygments_lexer": "ipython3",
   "version": "3.8.8"
  }
 },
 "nbformat": 4,
 "nbformat_minor": 5
}
