{
 "cells": [
  {
   "cell_type": "code",
   "execution_count": 1,
   "id": "05df2574-66b4-435a-8096-04e3d0c03654",
   "metadata": {},
   "outputs": [],
   "source": [
    "# 입력 조건 \n",
    "# 첫째 줄에 N(2~100,000), K(2~100,000)가 공백으로 구분되며 각각 자연수로 주어진다. \n",
    "# 이때 입력으로 주어지는 N은 항상 K보다 크거나 같다.\n",
    "\n",
    "# 출력 조건\n",
    "# 첫째 줄에 N이 1이 될 때까지 1번 혹은 2번의 과정을 수행해야 하는 횟수의 최솟값을 출력한다.\n",
    "\n",
    "# 입력 예시\n",
    "# 25 5 --> 2\n",
    "\n",
    "import time\n"
   ]
  },
  {
   "cell_type": "markdown",
   "id": "648453f0-4331-4b19-8e55-0378ff1a303e",
   "metadata": {},
   "source": [
    "# 단순한 방식"
   ]
  },
  {
   "cell_type": "code",
   "execution_count": 3,
   "id": "abd0cbec-2139-4c71-b98d-72bc8d39509d",
   "metadata": {},
   "outputs": [
    {
     "name": "stdin",
     "output_type": "stream",
     "text": [
      " 12341234123499999411 4321\n"
     ]
    },
    {
     "name": "stdout",
     "output_type": "stream",
     "text": [
      "10615\n",
      "time: 0.0050084590911865234\n"
     ]
    }
   ],
   "source": [
    "n, k = map(int, input().split())\n",
    "start_time = time.time() # 측정 시작\n",
    "\n",
    "\n",
    "result = 0\n",
    "while n>=k:\n",
    "    if n%k == 0:\n",
    "        n = n/k\n",
    "        result += 1\n",
    "    else:\n",
    "        n -= 1\n",
    "        result += 1\n",
    "\n",
    "while n>1:\n",
    "    \n",
    "    n -= 1\n",
    "    result += 1\n",
    "print(result)\n",
    "# 프로그램 소스코드\n",
    "end_time = time.time() # 측정 종료\n",
    "print(\"time:\", end_time - start_time) # 수행 시간 출력"
   ]
  },
  {
   "cell_type": "code",
   "execution_count": 23,
   "id": "26ba9315-2b46-480b-b9f3-9f3bb43fa8d0",
   "metadata": {},
   "outputs": [
    {
     "name": "stdin",
     "output_type": "stream",
     "text": [
      " 123412341234 4321\n"
     ]
    },
    {
     "name": "stdout",
     "output_type": "stream",
     "text": [
      "6836\n",
      "time: 0.003999471664428711\n"
     ]
    }
   ],
   "source": [
    "n, k = map(int, input().split())\n",
    "start_time = time.time() # 측정 시작\n",
    "\n",
    "result = 0\n",
    "# N이 K 이상이라면 K로 계속 나누기\n",
    "while n>=k:\n",
    "    # N이 K로 나누어 떨어지지않는다면 N에서 1씩 빼기\n",
    "    while n%k !=0:\n",
    "        n -= 1\n",
    "        result += 1\n",
    "    # K로 나누기\n",
    "    n //= k\n",
    "    result += 1\n",
    "    \n",
    "#마지막으로 남은 수에 대하여 1씩 빼기\n",
    "while n > 1:\n",
    "    n -= 1\n",
    "    result += 1\n",
    "print(result)\n",
    "\n",
    "# 프로그램 소스코드\n",
    "end_time = time.time() # 측정 종료\n",
    "print(\"time:\", end_time - start_time) # 수행 시간 출력"
   ]
  },
  {
   "cell_type": "markdown",
   "id": "f5b78d9d-20e6-4a83-84f7-9225cb7947ce",
   "metadata": {},
   "source": [
    "# 효율적 방식"
   ]
  },
  {
   "cell_type": "code",
   "execution_count": 2,
   "id": "ceae2800-d3bd-43fc-a831-ae0d1207a562",
   "metadata": {},
   "outputs": [
    {
     "name": "stdin",
     "output_type": "stream",
     "text": [
      " 1234123412349999941111 4321\n"
     ]
    },
    {
     "name": "stdout",
     "output_type": "stream",
     "text": [
      "50201.0\n",
      "time: 0.00099945068359375\n"
     ]
    }
   ],
   "source": [
    "n, k = map(int, input().split())\n",
    "start_time = time.time() # 측정 시작\n",
    "\n",
    "\n",
    "result = 0\n",
    "while n>=k:\n",
    "    if n%k == 0:\n",
    "        n = n/k\n",
    "        result += 1\n",
    "    else:\n",
    "        temp = n%k\n",
    "        n -= temp\n",
    "        result += temp\n",
    "\n",
    "while n>1:\n",
    "    n -= 1\n",
    "    result += 1\n",
    "print(result)\n",
    "# 프로그램 소스코드\n",
    "end_time = time.time() # 측정 종료\n",
    "print(\"time:\", end_time - start_time) # 수행 시간 출력"
   ]
  },
  {
   "cell_type": "code",
   "execution_count": 3,
   "id": "84b2b040-be72-48a6-891b-4960198b70c9",
   "metadata": {},
   "outputs": [
    {
     "data": {
      "text/plain": [
       "16"
      ]
     },
     "execution_count": 3,
     "metadata": {},
     "output_type": "execute_result"
    }
   ],
   "source": []
  },
  {
   "cell_type": "code",
   "execution_count": null,
   "id": "edbe1676-a432-404a-a8b4-431f15cee6dd",
   "metadata": {},
   "outputs": [],
   "source": []
  }
 ],
 "metadata": {
  "kernelspec": {
   "display_name": "Python 3",
   "language": "python",
   "name": "python3"
  },
  "language_info": {
   "codemirror_mode": {
    "name": "ipython",
    "version": 3
   },
   "file_extension": ".py",
   "mimetype": "text/x-python",
   "name": "python",
   "nbconvert_exporter": "python",
   "pygments_lexer": "ipython3",
   "version": "3.8.8"
  }
 },
 "nbformat": 4,
 "nbformat_minor": 5
}
