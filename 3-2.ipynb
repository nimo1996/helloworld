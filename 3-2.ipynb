{
 "cells": [
  {
   "cell_type": "markdown",
   "id": "4e612943-8842-4e2d-88b0-57ed7b6d0317",
   "metadata": {},
   "source": [
    "# 큰 수의 법칙"
   ]
  },
  {
   "cell_type": "markdown",
   "id": "3adee86b-5bdb-4fba-addd-e124d797634c",
   "metadata": {},
   "source": [
    "### 간단한 방법"
   ]
  },
  {
   "cell_type": "code",
   "execution_count": 14,
   "id": "7f79ec85-0d5f-4aad-bca5-9baf632a456d",
   "metadata": {},
   "outputs": [
    {
     "name": "stdin",
     "output_type": "stream",
     "text": [
      " 5 8 3\n"
     ]
    }
   ],
   "source": [
    "#N,M,K 를 공백으로 구분하여 입력받기\n",
    "\n",
    "n,m,k = map(int, input().split())"
   ]
  },
  {
   "cell_type": "code",
   "execution_count": 15,
   "id": "52482e2b-7587-4c7e-a27a-a4d9fa8d4e8a",
   "metadata": {},
   "outputs": [
    {
     "name": "stdin",
     "output_type": "stream",
     "text": [
      " 2 4 5 4 6\n"
     ]
    }
   ],
   "source": [
    "# N개의 수를 공백으로 구분하여 입력받기\n",
    "data = list(map(int, input().split()))"
   ]
  },
  {
   "cell_type": "code",
   "execution_count": 16,
   "id": "97aac090-a0d0-468d-a174-f5884ab0ddba",
   "metadata": {},
   "outputs": [],
   "source": [
    "data.sort() # 입력받은 수들 정렬하기\n",
    "first = data[n-1] # 가장 큰 수 \n",
    "second = data[n-2] # 두번째로 큰 수"
   ]
  },
  {
   "cell_type": "code",
   "execution_count": 19,
   "id": "85448b17-f703-41a0-af82-9add90da142c",
   "metadata": {},
   "outputs": [
    {
     "name": "stdout",
     "output_type": "stream",
     "text": [
      "46\n"
     ]
    }
   ],
   "source": [
    "result = 0\n",
    "\n",
    "while  True:\n",
    "    for i in range(k): # 가장 큰 수 k 번 더하기\n",
    "        if m == 0:\n",
    "            break\n",
    "        result += first\n",
    "        m -= 1\n",
    "    if m == 0:\n",
    "        break\n",
    "    result += second\n",
    "    m -= 1\n",
    "print(result)        "
   ]
  },
  {
   "cell_type": "markdown",
   "id": "ba88f708-8c71-47e0-adf2-4b84068230fe",
   "metadata": {},
   "source": [
    "### 좀 더 발전"
   ]
  },
  {
   "cell_type": "code",
   "execution_count": 21,
   "id": "c9d3bb7e-891e-4849-b5d0-c191ee31ad0a",
   "metadata": {},
   "outputs": [
    {
     "name": "stdin",
     "output_type": "stream",
     "text": [
      " 5 8 3\n",
      " 2 4 5 4 6\n"
     ]
    }
   ],
   "source": [
    "# N, M, K 를 공백으로 구분하여 입력 받기\n",
    "n, m, k = map(int, input().split())\n",
    "# N개의 수를 공백으로 구분하여 입력 받기0\n",
    "data = list(map(int, input().split()))"
   ]
  },
  {
   "cell_type": "code",
   "execution_count": 22,
   "id": "1a9f7036-518b-4270-b9e8-218e3bd50c22",
   "metadata": {},
   "outputs": [],
   "source": [
    "data.sort() # 입력받은 수 정렬\n",
    "first = data[n-1] # 가장 큰 수\n",
    "second = data[n-2] # 두 번째로 큰 수"
   ]
  },
  {
   "cell_type": "code",
   "execution_count": 23,
   "id": "4ee9c52e-f44f-454b-9407-7b7d608fbadc",
   "metadata": {},
   "outputs": [],
   "source": [
    "#가장 큰 수가 더해지는 횟수 계산\n",
    "count = int(m/(k+1))*k\n",
    "count += m%(k+1)"
   ]
  },
  {
   "cell_type": "code",
   "execution_count": 31,
   "id": "8ad1b004-aaf3-4dfc-93c5-9d1a1db5b3c3",
   "metadata": {},
   "outputs": [],
   "source": [
    "result = 0\n",
    "result += (count)*first\n",
    "result += (m-count)*second"
   ]
  },
  {
   "cell_type": "code",
   "execution_count": 32,
   "id": "fd19d7a2-d138-473b-b8e6-ed9556404723",
   "metadata": {},
   "outputs": [
    {
     "name": "stdout",
     "output_type": "stream",
     "text": [
      "46\n"
     ]
    }
   ],
   "source": [
    "print(result)"
   ]
  },
  {
   "cell_type": "code",
   "execution_count": null,
   "id": "522225cf-11a4-453c-a6a6-e00c58103c8b",
   "metadata": {},
   "outputs": [],
   "source": []
  }
 ],
 "metadata": {
  "kernelspec": {
   "display_name": "Python 3",
   "language": "python",
   "name": "python3"
  },
  "language_info": {
   "codemirror_mode": {
    "name": "ipython",
    "version": 3
   },
   "file_extension": ".py",
   "mimetype": "text/x-python",
   "name": "python",
   "nbconvert_exporter": "python",
   "pygments_lexer": "ipython3",
   "version": "3.8.8"
  }
 },
 "nbformat": 4,
 "nbformat_minor": 5
}
