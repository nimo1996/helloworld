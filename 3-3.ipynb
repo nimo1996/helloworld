{
 "cells": [
  {
   "cell_type": "code",
   "execution_count": 1,
   "id": "3d733880-3d25-457d-bc7b-ecb6adae7c3c",
   "metadata": {},
   "outputs": [
    {
     "name": "stdin",
     "output_type": "stream",
     "text": [
      " 3 3 \n"
     ]
    }
   ],
   "source": [
    "# N,M 을 공백으로 구분하여 입력받기\n",
    "n, m = map(int, input().split())"
   ]
  },
  {
   "cell_type": "markdown",
   "id": "f9f9037f-f72b-44ed-b965-b46c6acb6d03",
   "metadata": {},
   "source": [
    "# min()함수를 이용하는 답안 예시"
   ]
  },
  {
   "cell_type": "code",
   "execution_count": 2,
   "id": "e0c7a424-045a-4c78-8ce5-e84998cf2509",
   "metadata": {},
   "outputs": [
    {
     "name": "stdin",
     "output_type": "stream",
     "text": [
      " 3 1 2\n",
      " 4 1 4\n",
      " 2 2 2 \n"
     ]
    },
    {
     "name": "stdout",
     "output_type": "stream",
     "text": [
      "2\n"
     ]
    }
   ],
   "source": [
    "result = 0\n",
    "# 한 줄씩 입력받아 확인\n",
    "for i in range(n):\n",
    "    data = list(map(int, input().split()))\n",
    "    # 현재 줄에서 '가장 작은 수' 찾기\n",
    "    min_value = min(data)\n",
    "    # '가장 작은 수'들 중에서 가장 큰 수 찾기\n",
    "    result = max(result, min_value)\n",
    "    \n",
    "print(result)"
   ]
  },
  {
   "cell_type": "markdown",
   "id": "152e56ed-7358-4eea-b937-13670779e7c4",
   "metadata": {},
   "source": [
    "### 2중 반복문 구조를 이용하는 답안 예시"
   ]
  },
  {
   "cell_type": "code",
   "execution_count": 3,
   "id": "ceb7d4e8-8781-4309-aedc-654310e40b28",
   "metadata": {},
   "outputs": [
    {
     "name": "stdin",
     "output_type": "stream",
     "text": [
      " 3 1 2\n",
      " 4 1 4\n",
      " 2 2 2 \n"
     ]
    },
    {
     "name": "stdout",
     "output_type": "stream",
     "text": [
      "2\n"
     ]
    }
   ],
   "source": [
    "result = 0\n",
    "# 한 줄씩 입력받아 확인\n",
    "for i in range(n):\n",
    "    data = list(map(int, input().split()))\n",
    "    # 현재 줄에서 '가장 작은 수' 찾기\n",
    "    min_value = 10001\n",
    "    for a in data:\n",
    "        min_value = min(min_value, a)\n",
    "    # '가장 작은 수'들 중에서 가장 큰 수 찾기\n",
    "    result = max(result, min_value)\n",
    "print(result)"
   ]
  },
  {
   "cell_type": "code",
   "execution_count": null,
   "id": "bda1a741-ab72-4c51-94e5-38960fc3887b",
   "metadata": {},
   "outputs": [],
   "source": []
  }
 ],
 "metadata": {
  "kernelspec": {
   "display_name": "Python 3",
   "language": "python",
   "name": "python3"
  },
  "language_info": {
   "codemirror_mode": {
    "name": "ipython",
    "version": 3
   },
   "file_extension": ".py",
   "mimetype": "text/x-python",
   "name": "python",
   "nbconvert_exporter": "python",
   "pygments_lexer": "ipython3",
   "version": "3.8.8"
  }
 },
 "nbformat": 4,
 "nbformat_minor": 5
}
