{
 "cells": [
  {
   "cell_type": "markdown",
   "id": "603b70c5-b3a9-4268-a46c-73e801e3a184",
   "metadata": {},
   "source": [
    "이러한 유형은 완전탐색 유형으로 분류. 완전 탐색 알고리즘은 가능한 경우의 수를 모두 검사해보는 탐색 방법이다. 완전 탐색 문제 또한 구현이 중요한 대표적인 문제 유형인데, 일반적으로 완전 탐색 알고리즘은 비효율적인 시간 복잡도를 가지므로 데이터 개수가 큰 경우에 정상적으로 동작하지 않는다. 그래서 일반적으로 알고리즘 문제를 풀 떄는 확인해야할 전체 데이터의 개수가 100만개 이하일 때 완전 탐색을 사용하면 적절하다.\n",
    "다음 소스코드에서는 매 시각을 문자열로 바꾼 다음 문자열에 '3'이포함됐는지 검사한다. 다시말해 00시 00분 00초부터 23시 59분 59초까지 1초씩 늘리며 시, 분, 초를 문자열 자료형으로 변환하여 합친다. 예를 들어 03시 20분 35초일 때를 확인한다면, 이를  '032035'로 만들어서 '3'이 '032025'에 포함되어 있는지를 체크하는 방식을 이용한다"
   ]
  },
  {
   "cell_type": "code",
   "execution_count": null,
   "id": "0eacce4e-eee5-4b33-b315-e43d3066b764",
   "metadata": {},
   "outputs": [],
   "source": [
    "# H를 입력받기\n",
    "h = int(input())\n",
    "count = 0\n",
    "for i in range(h+1):\n",
    "    for j in range(60):\n",
    "        for k in range(60):\n",
    "            # 매 시각 안에 '3'이 포함되어 있다면 카운트 증가\n",
    "            if '3' in str(i) + str(j) + str(k):\n",
    "                count += 1\n",
    "print(count)"
   ]
  },
  {
   "cell_type": "code",
   "execution_count": null,
   "id": "ae9e5bc4-b846-4a22-ac6f-e4604d955e90",
   "metadata": {},
   "outputs": [],
   "source": [
    "10"
   ]
  }
 ],
 "metadata": {
  "kernelspec": {
   "display_name": "Python 3",
   "language": "python",
   "name": "python3"
  },
  "language_info": {
   "codemirror_mode": {
    "name": "ipython",
    "version": 3
   },
   "file_extension": ".py",
   "mimetype": "text/x-python",
   "name": "python",
   "nbconvert_exporter": "python",
   "pygments_lexer": "ipython3",
   "version": "3.8.8"
  }
 },
 "nbformat": 4,
 "nbformat_minor": 5
}
