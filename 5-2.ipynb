{
 "cells": [
  {
   "cell_type": "code",
   "execution_count": 1,
   "id": "48915c86-1019-4c7d-bfa3-726d74c6f944",
   "metadata": {},
   "outputs": [
    {
     "name": "stdout",
     "output_type": "stream",
     "text": [
      "deque([3, 7, 1, 4])\n",
      "deque([4, 1, 7, 3])\n"
     ]
    }
   ],
   "source": [
    "from collections import deque \n",
    "\n",
    "# 큐(Queue) 구현을 위해 deque 라이브러리 사용\n",
    "queue = deque()\n",
    "\n",
    "# 삽입(5) - 삽입(2) - 삽입(3) - 삽입(7) - 삭제() - 삽입(1) - 삽입(4) - 삭제()\n",
    "queue.append(5)\n",
    "queue.append(2)\n",
    "queue.append(3)\n",
    "queue.append(7)\n",
    "queue.popleft()\n",
    "queue.append(1)\n",
    "queue.append(4)\n",
    "queue.popleft()\n",
    "\n",
    "print(queue) # 먼저 들어온 순서대로 출력\n",
    "queue.reverse() # 다음 출력을 위해 역순으로 바꾸기\n",
    "print(queue) # 나중에 들어온 원소부터 출력"
   ]
  },
  {
   "cell_type": "code",
   "execution_count": null,
   "id": "1fd37cf4-f2a0-4add-8f22-16e5da8f7723",
   "metadata": {},
   "outputs": [],
   "source": []
  }
 ],
 "metadata": {
  "kernelspec": {
   "display_name": "Python 3",
   "language": "python",
   "name": "python3"
  },
  "language_info": {
   "codemirror_mode": {
    "name": "ipython",
    "version": 3
   },
   "file_extension": ".py",
   "mimetype": "text/x-python",
   "name": "python",
   "nbconvert_exporter": "python",
   "pygments_lexer": "ipython3",
   "version": "3.8.8"
  }
 },
 "nbformat": 4,
 "nbformat_minor": 5
}
